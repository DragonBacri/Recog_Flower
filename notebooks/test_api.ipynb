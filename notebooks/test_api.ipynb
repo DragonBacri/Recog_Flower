{
 "cells": [
  {
   "cell_type": "code",
   "execution_count": 12,
   "metadata": {},
   "outputs": [],
   "source": [
    "import requests\n",
    "from PIL import Image\n",
    "from pathlib import Path\n",
    "import sys\n"
   ]
  },
  {
   "cell_type": "code",
   "execution_count": 18,
   "metadata": {},
   "outputs": [
    {
     "data": {
      "text/plain": [
       "'dev'"
      ]
     },
     "execution_count": 18,
     "metadata": {},
     "output_type": "execute_result"
    }
   ],
   "source": [
    "import subprocess\n",
    "import requests\n",
    "\n",
    "def get_current_git_branch():\n",
    "    \"\"\"\n",
    "    Récupère le nom de la branche Git actuelle.\n",
    "    Retourne le nom de la branche ou None si ce n'est pas un dépôt Git.\n",
    "    \"\"\"\n",
    "    try:\n",
    "        # Exécute la commande git pour obtenir le nom de la branche\n",
    "        branch_bytes = subprocess.check_output(['git', 'rev-parse', '--abbrev-ref', 'HEAD'])\n",
    "        # Décode les bytes en string et supprime les espaces/sauts de ligne\n",
    "        return branch_bytes.strip().decode('utf-8')\n",
    "    except (subprocess.CalledProcessError, FileNotFoundError):\n",
    "        # Gère le cas où la commande échoue (pas un dépôt git, ou git non installé)\n",
    "        print(\"Attention : Impossible de déterminer la branche git. Utilisation de 'dev' par défaut.\")\n",
    "        return 'dev' # Fournit une valeur par défaut sécurisée\n",
    "\n",
    "get_current_git_branch()"
   ]
  },
  {
   "cell_type": "code",
   "execution_count": 14,
   "metadata": {},
   "outputs": [],
   "source": [
    "from pathlib import Path\n",
    "\n",
    "path = str(Path().resolve().parents[0])\n"
   ]
  },
  {
   "cell_type": "code",
   "execution_count": 15,
   "metadata": {},
   "outputs": [],
   "source": [
    "if get_current_git_branch() == 'dev' :  \n",
    "    API_url = \"https://back-flower-app-dev-913646321813.europe-west9.run.app/predict\"\n",
    "elif get_current_git_branch() == 'main' :  \n",
    "    API_url = \"https://back-flower-app-prod-913646321813.europe-west9.run.app/predict\"\n"
   ]
  },
  {
   "cell_type": "code",
   "execution_count": 19,
   "metadata": {},
   "outputs": [
    {
     "name": "stdout",
     "output_type": "stream",
     "text": [
      "Réponse de l'API: {'flower': ['rose', 'canterbury bells', 'mallow']}\n"
     ]
    }
   ],
   "source": [
    "image_path = path+\"/examples/rose.jpg\"\n",
    "with open(image_path, \"rb\") as img_file:\n",
    "    files = {\"image\": img_file}\n",
    "    response = requests.post(API_url, files=files)\n",
    "if response.status_code == 200:\n",
    "    print(\"Réponse de l'API:\", response.json())  # {\"flower\": \"Rose\"}\n",
    "else:\n",
    "    print(\"Erreur:\", response.status_code, response.text)"
   ]
  },
  {
   "cell_type": "code",
   "execution_count": 6,
   "metadata": {},
   "outputs": [
    {
     "data": {
      "text/plain": [
       "<Response [403]>"
      ]
     },
     "execution_count": 6,
     "metadata": {},
     "output_type": "execute_result"
    }
   ],
   "source": [
    "response = requests.get(\"https://back-flower-app-dev-913646321813.europe-west9.run.app/health\")\n",
    "response"
   ]
  }
 ],
 "metadata": {
  "kernelspec": {
   "display_name": "Python 3",
   "language": "python",
   "name": "python3"
  },
  "language_info": {
   "codemirror_mode": {
    "name": "ipython",
    "version": 3
   },
   "file_extension": ".py",
   "mimetype": "text/x-python",
   "name": "python",
   "nbconvert_exporter": "python",
   "pygments_lexer": "ipython3",
   "version": "3.13.2"
  }
 },
 "nbformat": 4,
 "nbformat_minor": 2
}
