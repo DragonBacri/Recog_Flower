{
 "cells": [
  {
   "cell_type": "code",
   "execution_count": 1,
   "metadata": {},
   "outputs": [],
   "source": [
    "import requests\n",
    "from PIL import Image\n",
    "from pathlib import Path\n",
    "import sys\n"
   ]
  },
  {
   "cell_type": "code",
   "execution_count": 2,
   "metadata": {},
   "outputs": [],
   "source": [
    "from pathlib import Path\n",
    "\n",
    "path = str(Path().resolve().parents[0])\n"
   ]
  },
  {
   "cell_type": "code",
   "execution_count": null,
   "metadata": {},
   "outputs": [],
   "source": [
    "API_url = \"https://back-flower-app-913646321813.europe-west9.run.app/predict\"\n",
    "\n"
   ]
  },
  {
   "cell_type": "code",
   "execution_count": 21,
   "metadata": {},
   "outputs": [
    {
     "name": "stdout",
     "output_type": "stream",
     "text": [
      "Réponse de l'API: {'flower': ['canterbury bells', 'rose', 'mallow']}\n"
     ]
    }
   ],
   "source": [
    "image_path = path+\"/examples/rose.jpg\"\n",
    "with open(image_path, \"rb\") as img_file:\n",
    "    files = {\"image\": img_file}\n",
    "    response = requests.post(API_url, files=files)\n",
    "if response.status_code == 200:\n",
    "    print(\"Réponse de l'API:\", response.json())  # {\"flower\": \"Rose\"}\n",
    "else:\n",
    "    print(\"Erreur:\", response.status_code, response.text)"
   ]
  },
  {
   "cell_type": "code",
   "execution_count": 5,
   "metadata": {},
   "outputs": [
    {
     "data": {
      "text/plain": [
       "{'status': 'healthy'}"
      ]
     },
     "execution_count": 5,
     "metadata": {},
     "output_type": "execute_result"
    }
   ],
   "source": [
    "response = requests.get(\"https://back-flower-app-913646321813.europe-west9.run.app/health\")\n",
    "response.json()"
   ]
  }
 ],
 "metadata": {
  "kernelspec": {
   "display_name": "Python 3",
   "language": "python",
   "name": "python3"
  },
  "language_info": {
   "codemirror_mode": {
    "name": "ipython",
    "version": 3
   },
   "file_extension": ".py",
   "mimetype": "text/x-python",
   "name": "python",
   "nbconvert_exporter": "python",
   "pygments_lexer": "ipython3",
   "version": "3.13.2"
  }
 },
 "nbformat": 4,
 "nbformat_minor": 2
}
